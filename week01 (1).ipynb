{
  "cells": [
    {
      "cell_type": "markdown",
      "metadata": {},
      "source": [
        "# Introduction to APIs and LLMs with Python\n",
        "\n",
        "Welcome!\n",
        "\n",
        "In this notebook, we will learn the basics of:\n",
        "- Artificial Intelligence (AI)\n",
        "- Large Language Models (LLMs)\n",
        "- Application Programming Interfaces (APIs)\n",
        "- Jupyter Notebook / Google Colab\n",
        "- Saving and sharing with GitHub\n",
        "\n",
        "By the end, you will understand how these connect and try them with Python.\n",
        "\n",
        "Let's begin."
      ]
    },
    {
      "cell_type": "markdown",
      "metadata": {},
      "source": [
        "## Quick Recap\n",
        "\n",
        "### Question 1: What is Artificial Intelligence (AI)?\n",
        "Artificial Intelligence means teaching computers to think and act like humans.\n",
        "\n",
        "Examples:\n",
        "- Siri or Alexa answering -> AI\n",
        "- YouTube recommendations -> AI\n",
        "- Self-driving cars -> AI\n",
        "\n",
        "So, AI is like giving computers a mini brain.\n",
        "\n",
        "---\n",
        "### Reflection\n",
        "- Should AI be defined by how it is built, or by what it can do?\n",
        "- Can AI really understand or is it simulating understanding?\n",
        "- Which jobs will AI change most in 10 years?"
      ]
    },
    {
      "cell_type": "code",
      "execution_count": null,
      "metadata": {},
      "outputs": [],
      "source": [
        "import requests\n",
        "\n",
        "# Call a public Joke API\n",
        "response = requests.get(\"https://official-joke-api.appspot.com/random_joke\")\n",
        "\n",
        "# Show raw response\n",
        "print(\"Raw JSON:\", response.text)\n",
        "\n",
        "# Convert response to Python dictionary\n",
        "data = response.json()\n",
        "\n",
        "print(\"Setup:\", data[\"setup\"])\n",
        "print(\"Punchline:\", data[\"punchline\"])"
      ]
    },
    {
      "cell_type": "markdown",
      "metadata": {},
      "source": [
        "## Large Language Models (LLMs)\n",
        "\n",
        "LLMs are advanced AI programs that can read, understand, and generate human-like text.\n",
        "\n",
        "They learn from huge amounts of text data and then guess the best next words.\n",
        "\n",
        "---\n",
        "### Question 2: What are APIs?\n",
        "\n",
        "API = Application Programming Interface.\n",
        "It is like a messenger that carries your request to a system and brings back the response.\n",
        "\n",
        "Example: A weather API can return today\u2019s weather without you visiting a website."
      ]
    },
    {
      "cell_type": "code",
      "execution_count": null,
      "metadata": {},
      "outputs": [],
      "source": [
        "# Example of handling JSON data\n",
        "example_json = {\n",
        "    \"id\": 123,\n",
        "    \"type\": \"general\",\n",
        "    \"setup\": \"Why did the computer go to the doctor?\",\n",
        "    \"punchline\": \"Because it caught a virus!\"\n",
        "}\n",
        "\n",
        "print(\"Setup:\", example_json[\"setup\"])\n",
        "print(\"Punchline:\", example_json[\"punchline\"])"
      ]
    },
    {
      "cell_type": "markdown",
      "metadata": {},
      "source": [
        "## Activities\n",
        "\n",
        "### Activity 1: Try Python + APIs in Colab\n",
        "- Use requests to fetch data from any public API.\n",
        "- Print out the results.\n",
        "\n",
        "### Activity 2: Save Notebook\n",
        "- File -> Save a copy in GitHub\n",
        "- or File -> Download -> .ipynb\n",
        "\n",
        "Now you have a working notebook to explain AI, LLMs, and APIs!"
      ]
    }
  ],
  "metadata": {
    "kernelspec": {
      "display_name": "Python 3",
      "language": "python",
      "name": "python3"
    },
    "language_info": {
      "name": "python",
      "version": "3.11"
    }
  },
  "nbformat": 4,
  "nbformat_minor": 5
}